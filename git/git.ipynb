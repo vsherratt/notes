{
 "cells": [
  {
   "cell_type": "markdown",
   "id": "457f26dc-e653-45b0-9733-351edfbe42bb",
   "metadata": {
    "slideshow": {
     "slide_type": "slide"
    }
   },
   "source": [
    "# Introduction to Git"
   ]
  },
  {
   "cell_type": "markdown",
   "id": "875aaf63-2156-46ba-9970-4fe281ebfbb5",
   "metadata": {
    "slideshow": {
     "slide_type": "subslide"
    }
   },
   "source": [
    "## Overview\n",
    "\n",
    "- Git vs svn\n",
    "- Git configuration\n",
    "- Repository setup\n",
    "- Making changes\n",
    "- Sharing changes"
   ]
  },
  {
   "cell_type": "markdown",
   "id": "b3a91ca6",
   "metadata": {
    "slideshow": {
     "slide_type": "slide"
    }
   },
   "source": [
    "## Git vs svn"
   ]
  },
  {
   "cell_type": "markdown",
   "id": "b25cb752",
   "metadata": {
    "slideshow": {
     "slide_type": "subslide"
    }
   },
   "source": [
    "### Distributed\n",
    "\n",
    "- Subversion (hence fcm) is **centralised**: there is one central source of truth. Nearly all actions involve communicating with a server.\n",
    "\n",
    "- Git is **distributed**: any number of copies can be synchronised as required. A local copy of a repository is entirely self-contained: nearly all actions are local, only communicated to the server when ready.\n",
    "\n",
    "In practice, git is usually used in a centralised way, by simply agreeing that one of the copies is the main one - such as one on GitHub."
   ]
  },
  {
   "cell_type": "markdown",
   "id": "fd634030",
   "metadata": {
    "slideshow": {
     "slide_type": "subslide"
    }
   },
   "source": [
    "### Staging changes\n",
    "\n",
    "- Subversion assumes that all changes to the **worktree** should be committed.\n",
    "- Git additionally has a **staging area** to represent what will be included in the next commit.\n",
    "\n",
    "The staging area allows more control over which changes are included in which commit, which can be a useful resource for future developers - for example when using `blame` to identify when a bug turned up."
   ]
  },
  {
   "cell_type": "markdown",
   "id": "7e3cd6e1",
   "metadata": {
    "slideshow": {
     "slide_type": "subslide"
    }
   },
   "source": [
    "### Structure\n",
    "\n",
    "- A subversion commit is like a snapshot of the entire repository, including all branches. Every commit therefore knows which branch it affects.\n",
    "- A git commit is a snapshot of files, with no branch information. Commits simply point to parent commits, forming a graph, and a branch is nothing more than a pointer to a commit.\n",
    "\n",
    "```\n",
    "      branch1\n",
    "      C\n",
    "     /          main\n",
    "A - B - D - G - H\n",
    "     \\     /\n",
    "      E - F\n",
    "```"
   ]
  },
  {
   "cell_type": "markdown",
   "id": "4d02cc17-dbeb-43f0-a8b3-26a6f1f6b424",
   "metadata": {
    "slideshow": {
     "slide_type": "slide"
    }
   },
   "source": [
    "## Git configuration"
   ]
  },
  {
   "cell_type": "markdown",
   "id": "f1f7484e-693a-4719-b46e-b03e4822b0fe",
   "metadata": {
    "slideshow": {
     "slide_type": "subslide"
    }
   },
   "source": [
    "### Identity"
   ]
  },
  {
   "cell_type": "markdown",
   "id": "5674fff7-daf5-45cd-b51b-c273c0dfc32f",
   "metadata": {},
   "source": [
    "Before anything else, tell git what your name and email address are.\n",
    "\n",
    "```bash\n",
    "git config --global user.name \"Your Name\"\n",
    "git config --global user.email \"you@email\"\n",
    "```\n",
    "\n",
    "This is because a commit in git **must** have an associated name and email address, so if you have not provided them, it will guess (badly!)"
   ]
  },
  {
   "cell_type": "markdown",
   "id": "4586524a",
   "metadata": {},
   "source": [
    "Configuration is stored in a simple *ini* file `~/.gitconfig`, which could also be modified directly:\n",
    "\n",
    "```ini\n",
    "[user]\n",
    "name = Your Name\n",
    "email = you@email\n",
    "```"
   ]
  },
  {
   "cell_type": "markdown",
   "id": "78d0a449-204e-450d-93ee-4e258791cc63",
   "metadata": {
    "slideshow": {
     "slide_type": "subslide"
    }
   },
   "source": [
    "### Editor"
   ]
  },
  {
   "cell_type": "markdown",
   "id": "8e81ac80-82a5-4510-8efd-352df7d95732",
   "metadata": {},
   "source": [
    "Git sometimes needs to open a text editor, such as for entering a commit message. This can be configured in the same way as name and email:\n",
    "\n",
    "```bash\n",
    "git config --global core.editor \"vim\"\n",
    "```\n",
    "\n",
    "Some programs might need an option to allow git to wait for it. For example:\n",
    "\n",
    "- `gedit -s`\n",
    "- `gvim -f`\n",
    "- `code -nw`\n",
    "\n",
    "Alternatively, git will fall back to the environment variables `$GIT_EDITOR`, `$VISUAL`, and `$EDITOR`, or ultimately default to `vi`."
   ]
  },
  {
   "cell_type": "markdown",
   "id": "4564473f-1469-4829-a0af-df51a632a104",
   "metadata": {
    "slideshow": {
     "slide_type": "subslide"
    }
   },
   "source": [
    "### SSH"
   ]
  },
  {
   "cell_type": "markdown",
   "id": "e9fda997-bb45-4925-b1da-14306e010607",
   "metadata": {},
   "source": [
    "Commits will be transferred to and from GitHub via SSH."
   ]
  },
  {
   "cell_type": "markdown",
   "id": "85c4ea6b-2714-4a37-b42f-7504dcd4c5db",
   "metadata": {},
   "source": [
    "It is recommended to generate a new key pair for GitHub, rather than using any existing keys:\n",
    "```bash\n",
    "ssh-keygen -b 4096 -f ~/.ssh/id_rsa_github\n",
    "```"
   ]
  },
  {
   "cell_type": "markdown",
   "id": "3d0d8a30-6c5e-48db-b2ba-a22b546a395d",
   "metadata": {},
   "source": [
    "Then, add the **public** SSH key (the contents of `~/.ssh/id_rsa_github.pub`) to your GitHub account, under [\"SSH and GPG keys\" settings](https://github.com/settings/keys)."
   ]
  },
  {
   "cell_type": "markdown",
   "id": "0a9237fb-e6ac-43f0-991d-1d3197d45ac2",
   "metadata": {
    "slideshow": {
     "slide_type": "fragment"
    }
   },
   "source": [
    "It is also recommended to configure SSH to use this key, and only this key, when connecting to `github.com`. This can be done by adding the following to `~/.ssh/config`:\n",
    "\n",
    "```\n",
    "Host github.com\n",
    "IdentityFile ~/.ssh/id_rsa_github\n",
    "IdentitiesOnly yes\n",
    "```"
   ]
  },
  {
   "cell_type": "markdown",
   "id": "62309b9b-84b2-4b39-8370-a7c508a30c8f",
   "metadata": {
    "slideshow": {
     "slide_type": "slide"
    }
   },
   "source": [
    "## Repository setup"
   ]
  },
  {
   "cell_type": "code",
   "execution_count": 1,
   "id": "8c59fcd8-8e51-4780-939f-fd54edb74b86",
   "metadata": {
    "slideshow": {
     "slide_type": "skip"
    }
   },
   "outputs": [],
   "source": [
    "mkdir -p \"$SCRATCH/git\"\n",
    "cd \"$SCRATCH/git\""
   ]
  },
  {
   "cell_type": "markdown",
   "id": "151b4cad-a90a-456e-8ec5-ddbb4c0ddce2",
   "metadata": {
    "slideshow": {
     "slide_type": "subslide"
    }
   },
   "source": [
    "### Cloning a repository"
   ]
  },
  {
   "cell_type": "markdown",
   "id": "445f47df-a485-40b7-b4b6-99640a39d63f",
   "metadata": {},
   "source": [
    "If contributing to an existing repository, it needs to be *cloned* with `git clone <url>`.\n",
    "\n",
    "This copies the entire repository with all its branches and history to your machine."
   ]
  },
  {
   "cell_type": "markdown",
   "id": "be172d87",
   "metadata": {
    "slideshow": {
     "slide_type": "subslide"
    }
   },
   "source": [
    "The URL for a GitHub repository can be found by clicking the green \"Code\" button:\n",
    "\n",
    "![GitHub clone URLs](clone.png)"
   ]
  },
  {
   "cell_type": "markdown",
   "id": "6b356932",
   "metadata": {},
   "source": [
    "*Note*\n",
    "\n",
    "- **HTTPS** can only be used to clone public repositories.\n",
    "- **SSH** is required to clone private repositories, or push any changes.\n",
    "- The URL can also be a path to a folder, on any machine accessible via SSH."
   ]
  },
  {
   "cell_type": "markdown",
   "id": "4fec5d45-8765-4514-88f1-a4294ca9cb46",
   "metadata": {
    "slideshow": {
     "slide_type": "subslide"
    }
   },
   "source": [
    "### Initialising a repository"
   ]
  },
  {
   "cell_type": "markdown",
   "id": "5afb91ec-147a-4648-9b9f-d2fa8381d445",
   "metadata": {},
   "source": [
    "If wanting to put some existing code under version control, it needs to be *initialised*."
   ]
  },
  {
   "cell_type": "code",
   "execution_count": 4,
   "id": "6eab6d26-0a01-48c5-a22f-5acee3c14888",
   "metadata": {
    "slideshow": {
     "slide_type": "skip"
    }
   },
   "outputs": [],
   "source": [
    "if [ -d example-repo ]; then rm -rf example-repo; fi"
   ]
  },
  {
   "cell_type": "code",
   "execution_count": 5,
   "id": "c769d5d9-bdaa-4378-954a-1b4652092751",
   "metadata": {},
   "outputs": [
    {
     "name": "stdout",
     "output_type": "stream",
     "text": [
      "Initialized empty Git repository in /net/spice/scratch/bsherrat/git/example-repo/.git/\n"
     ]
    }
   ],
   "source": [
    "git init example-repo"
   ]
  },
  {
   "cell_type": "markdown",
   "id": "ad3da92e",
   "metadata": {
    "slideshow": {
     "slide_type": "fragment"
    }
   },
   "source": [
    "*Behind the scenes*\n",
    "\n",
    "All the information about a repository is in a hidden `.git` folder:"
   ]
  },
  {
   "cell_type": "code",
   "execution_count": 6,
   "id": "5f9856c0",
   "metadata": {},
   "outputs": [
    {
     "name": "stdout",
     "output_type": "stream",
     "text": [
      "\u001b[0m\u001b[38;5;27m.git\u001b[0m\n"
     ]
    }
   ],
   "source": [
    "ls -A example-repo"
   ]
  },
  {
   "cell_type": "code",
   "execution_count": 7,
   "id": "96767093",
   "metadata": {},
   "outputs": [
    {
     "name": "stdout",
     "output_type": "stream",
     "text": [
      "\u001b[0m\u001b[38;5;27mbranches\u001b[0m  config  description  HEAD  \u001b[38;5;27mhooks\u001b[0m  \u001b[38;5;27minfo\u001b[0m  \u001b[38;5;27mobjects\u001b[0m  \u001b[38;5;27mrefs\u001b[0m\n"
     ]
    }
   ],
   "source": [
    "ls example-repo/.git"
   ]
  },
  {
   "cell_type": "markdown",
   "id": "efd16b38-a778-47c6-b708-c69863de9f14",
   "metadata": {
    "slideshow": {
     "slide_type": "subslide"
    }
   },
   "source": [
    "### Initial commit"
   ]
  },
  {
   "cell_type": "markdown",
   "id": "e33e9144-51f9-4243-a3f6-06f400bd99d8",
   "metadata": {},
   "source": [
    "It is customary in a fresh repository to create a very simple initial commit with a README file. This would eventually contain basic information about the repository contents such as installation or usage."
   ]
  },
  {
   "cell_type": "code",
   "execution_count": 8,
   "id": "dd96bd9b-e428-43b0-b39a-7ca9f583ab17",
   "metadata": {},
   "outputs": [],
   "source": [
    "cd example-repo\n",
    "echo '# Example repository' > README.md"
   ]
  },
  {
   "cell_type": "markdown",
   "id": "b0cafdee-9d88-4566-801c-89de4a5f17d3",
   "metadata": {
    "slideshow": {
     "slide_type": "subslide"
    }
   },
   "source": [
    "A very important command that should be run regularly, to ensure you and git are on the same page, is `git status`."
   ]
  },
  {
   "cell_type": "code",
   "execution_count": 9,
   "id": "2b91cf37-3e5d-4e41-b5f2-b9f672735d7a",
   "metadata": {},
   "outputs": [
    {
     "name": "stdout",
     "output_type": "stream",
     "text": [
      "On branch \u001b[1mmaster\u001b[m\n",
      "\n",
      "No commits yet\n",
      "\n",
      "Untracked files:\n",
      "  (use \"git add <file>...\" to include in what will be committed)\n",
      "\t\u001b[34mREADME.md\u001b[m\n",
      "\n",
      "nothing added to commit but untracked files present (use \"git add\" to track)\n"
     ]
    }
   ],
   "source": [
    "git status"
   ]
  },
  {
   "cell_type": "code",
   "execution_count": 10,
   "id": "a7d006df-71a6-4d07-b457-ba08e7ebabe3",
   "metadata": {
    "slideshow": {
     "slide_type": "subslide"
    }
   },
   "outputs": [
    {
     "name": "stdout",
     "output_type": "stream",
     "text": [
      "On branch \u001b[1mmaster\u001b[m\n",
      "\n",
      "No commits yet\n",
      "\n",
      "Changes to be committed:\n",
      "  (use \"git rm --cached <file>...\" to unstage)\n",
      "\t\u001b[32mnew file:   README.md\u001b[m\n",
      "\n"
     ]
    }
   ],
   "source": [
    "git add README.md\n",
    "git status"
   ]
  },
  {
   "cell_type": "code",
   "execution_count": 11,
   "id": "81ef0daa-1e11-47af-8286-9ac8e81d2930",
   "metadata": {
    "slideshow": {
     "slide_type": "fragment"
    }
   },
   "outputs": [
    {
     "name": "stdout",
     "output_type": "stream",
     "text": [
      "[master (root-commit) 01bf887] Initial commit\n",
      " 1 file changed, 1 insertion(+)\n",
      " create mode 100644 README.md\n"
     ]
    }
   ],
   "source": [
    "git commit -m \"Initial commit\""
   ]
  },
  {
   "cell_type": "code",
   "execution_count": 12,
   "id": "844600c7-2f86-4605-a8e7-a344bd66e293",
   "metadata": {
    "slideshow": {
     "slide_type": "fragment"
    }
   },
   "outputs": [
    {
     "name": "stdout",
     "output_type": "stream",
     "text": [
      "On branch \u001b[1mmaster\u001b[m\n",
      "nothing to commit, working tree clean\n"
     ]
    }
   ],
   "source": [
    "git status"
   ]
  },
  {
   "cell_type": "markdown",
   "id": "c1325553-df13-4247-904d-98533d99f46d",
   "metadata": {
    "slideshow": {
     "slide_type": "slide"
    }
   },
   "source": [
    "## Making changes"
   ]
  },
  {
   "cell_type": "markdown",
   "id": "663c1a17",
   "metadata": {
    "slideshow": {
     "slide_type": "subslide"
    }
   },
   "source": [
    "### Branching\n",
    "\n",
    "Branches are managed with `git branch`:\n",
    "\n",
    "- `git branch` - list current branches\n",
    "- `git branch <name> [<from>]` - create a branch (from another)\n",
    "- `git branch -d <name>` - delete a branch\n",
    "- `git branch -m [<name>] <new_name>` - rename a branch\n",
    "- `git branch -u <name>` - set the \"upstream\" (where `pull` and `push` go)"
   ]
  },
  {
   "cell_type": "code",
   "execution_count": 13,
   "id": "67fcbdc9",
   "metadata": {
    "slideshow": {
     "slide_type": "subslide"
    }
   },
   "outputs": [
    {
     "name": "stdout",
     "output_type": "stream",
     "text": [
      "* \u001b[32mmaster\u001b[m\n"
     ]
    }
   ],
   "source": [
    "git branch"
   ]
  },
  {
   "cell_type": "markdown",
   "id": "b88c5f31",
   "metadata": {
    "slideshow": {
     "slide_type": "fragment"
    }
   },
   "source": [
    "First, `master` is no longer the preferred default branch name, so change it to `main`:"
   ]
  },
  {
   "cell_type": "code",
   "execution_count": 14,
   "id": "98078807",
   "metadata": {},
   "outputs": [
    {
     "name": "stdout",
     "output_type": "stream",
     "text": [
      "* \u001b[32mmain\u001b[m\n"
     ]
    }
   ],
   "source": [
    "git branch -m main\n",
    "git branch"
   ]
  },
  {
   "cell_type": "code",
   "execution_count": 15,
   "id": "3b72da25",
   "metadata": {
    "slideshow": {
     "slide_type": "subslide"
    }
   },
   "outputs": [
    {
     "name": "stdout",
     "output_type": "stream",
     "text": [
      "  dev\u001b[m\n",
      "* \u001b[32mmain\u001b[m\n"
     ]
    }
   ],
   "source": [
    "git branch dev\n",
    "git branch"
   ]
  },
  {
   "cell_type": "markdown",
   "id": "872afc4e",
   "metadata": {},
   "source": [
    "Note that the new branch was NOT checked out: `main` is still the current branch."
   ]
  },
  {
   "cell_type": "markdown",
   "id": "26d677b3",
   "metadata": {
    "slideshow": {
     "slide_type": "fragment"
    }
   },
   "source": [
    "To check out a branch, use `git checkout <branch>`."
   ]
  },
  {
   "cell_type": "code",
   "execution_count": 16,
   "id": "50ae7b19",
   "metadata": {},
   "outputs": [
    {
     "name": "stdout",
     "output_type": "stream",
     "text": [
      "Switched to branch 'dev'\n"
     ]
    }
   ],
   "source": [
    "git checkout dev"
   ]
  },
  {
   "cell_type": "code",
   "execution_count": 17,
   "id": "fb45c5b3",
   "metadata": {},
   "outputs": [
    {
     "name": "stdout",
     "output_type": "stream",
     "text": [
      "* \u001b[32mdev\u001b[m\n",
      "  main\u001b[m\n"
     ]
    }
   ],
   "source": [
    "git branch"
   ]
  },
  {
   "cell_type": "markdown",
   "id": "9ef6a10c",
   "metadata": {},
   "source": [
    "Checking out works by modifying the files in your working copy to match how they should look at the tip of the branch. Git is kind enough to block you from checking out a branch if it would overwrite uncommitted changes."
   ]
  },
  {
   "cell_type": "markdown",
   "id": "8199b047",
   "metadata": {
    "slideshow": {
     "slide_type": "subslide"
    }
   },
   "source": [
    "While `git branch` can't check out branches, `git checkout` is able to create them:"
   ]
  },
  {
   "cell_type": "code",
   "execution_count": 18,
   "id": "94d49fcd",
   "metadata": {},
   "outputs": [
    {
     "name": "stdout",
     "output_type": "stream",
     "text": [
      "Switched to a new branch 'example'\n",
      "  dev\u001b[m\n",
      "* \u001b[32mexample\u001b[m\n",
      "  main\u001b[m\n"
     ]
    }
   ],
   "source": [
    "git checkout -b example\n",
    "git branch"
   ]
  },
  {
   "cell_type": "code",
   "execution_count": 19,
   "id": "a435e0c8",
   "metadata": {
    "slideshow": {
     "slide_type": "fragment"
    }
   },
   "outputs": [
    {
     "name": "stdout",
     "output_type": "stream",
     "text": [
      "Switched to branch 'dev'\n",
      "Deleted branch example (was 01bf887).\n"
     ]
    }
   ],
   "source": [
    "git checkout dev\n",
    "git branch -d example"
   ]
  },
  {
   "cell_type": "markdown",
   "id": "1a21a930",
   "metadata": {
    "slideshow": {
     "slide_type": "subslide"
    }
   },
   "source": [
    "### Do work\n",
    "\n",
    "Working on a branch largely involves these commands:\n",
    "\n",
    "- `git status` - describe the state of files, and suggest how to change it\n",
    "- `git add` - add changes to the staging area\n",
    "- `git restore` *or* `git checkout HEAD <file>` - abandon changes\n",
    "- `git restore --staged` *or* `git reset HEAD <file>` - unstage changes\n",
    "- `git diff` - show unstaged changes\n",
    "- `git diff --staged` - show staged changes\n",
    "- `git difftool` - show changes in a GUI\n",
    "- `git commit` - commit staged changes"
   ]
  },
  {
   "cell_type": "markdown",
   "id": "a24c5315",
   "metadata": {
    "slideshow": {
     "slide_type": "fragment"
    }
   },
   "source": [
    "*Note*\n",
    "\n",
    "- The term \"stage\" evolved relatively recently; some resources still refer to it as the \"index\" or \"cache\".\n",
    "- `git restore` is quite a new command (v2.23, ~Aug 2019) and still marked as \"experimental\". It is recommended over the `checkout` / `reset` approach as those commands are heavily overloaded with different functionality."
   ]
  },
  {
   "cell_type": "code",
   "execution_count": 20,
   "id": "cfdecf40",
   "metadata": {
    "slideshow": {
     "slide_type": "subslide"
    }
   },
   "outputs": [],
   "source": [
    "echo 'Hello, world!' >> README.md"
   ]
  },
  {
   "cell_type": "code",
   "execution_count": 21,
   "id": "3504b09a",
   "metadata": {},
   "outputs": [
    {
     "name": "stdout",
     "output_type": "stream",
     "text": [
      "On branch \u001b[1mdev\u001b[m\n",
      "Changes not staged for commit:\n",
      "  (use \"git add <file>...\" to update what will be committed)\n",
      "  (use \"git restore <file>...\" to discard changes in working directory)\n",
      "\t\u001b[33mmodified:   README.md\u001b[m\n",
      "\n",
      "no changes added to commit (use \"git add\" and/or \"git commit -a\")\n"
     ]
    }
   ],
   "source": [
    "git status"
   ]
  },
  {
   "cell_type": "code",
   "execution_count": 22,
   "id": "918d1db6",
   "metadata": {
    "slideshow": {
     "slide_type": "fragment"
    }
   },
   "outputs": [
    {
     "name": "stdout",
     "output_type": "stream",
     "text": [
      "\u001b[1mdiff --git a/README.md b/README.md\u001b[m\n",
      "\u001b[1mindex 64624b3..2e2a1c4 100644\u001b[m\n",
      "\u001b[1m--- a/README.md\u001b[m\n",
      "\u001b[1m+++ b/README.md\u001b[m\n",
      "\u001b[36m@@ -1 +1,2 @@\u001b[m\n",
      " # Example repository\u001b[m\n",
      "\u001b[32m+\u001b[m\u001b[32mHello, world!\u001b[m\n"
     ]
    }
   ],
   "source": [
    "git diff"
   ]
  },
  {
   "cell_type": "code",
   "execution_count": 23,
   "id": "f4374ae5",
   "metadata": {
    "slideshow": {
     "slide_type": "subslide"
    }
   },
   "outputs": [
    {
     "name": "stdout",
     "output_type": "stream",
     "text": [
      "On branch \u001b[1mdev\u001b[m\n",
      "Changes to be committed:\n",
      "  (use \"git restore --staged <file>...\" to unstage)\n",
      "\t\u001b[32mmodified:   README.md\u001b[m\n",
      "\n"
     ]
    }
   ],
   "source": [
    "git add README.md\n",
    "git status"
   ]
  },
  {
   "cell_type": "code",
   "execution_count": 24,
   "id": "4c5c0ed0",
   "metadata": {
    "slideshow": {
     "slide_type": "fragment"
    }
   },
   "outputs": [],
   "source": [
    "git diff"
   ]
  },
  {
   "cell_type": "code",
   "execution_count": 25,
   "id": "86742874",
   "metadata": {},
   "outputs": [
    {
     "name": "stdout",
     "output_type": "stream",
     "text": [
      "\u001b[1mdiff --git a/README.md b/README.md\u001b[m\n",
      "\u001b[1mindex 64624b3..2e2a1c4 100644\u001b[m\n",
      "\u001b[1m--- a/README.md\u001b[m\n",
      "\u001b[1m+++ b/README.md\u001b[m\n",
      "\u001b[36m@@ -1 +1,2 @@\u001b[m\n",
      " # Example repository\u001b[m\n",
      "\u001b[32m+\u001b[m\u001b[32mHello, world!\u001b[m\n"
     ]
    }
   ],
   "source": [
    "git diff --staged"
   ]
  },
  {
   "cell_type": "code",
   "execution_count": 26,
   "id": "c70060fe",
   "metadata": {
    "slideshow": {
     "slide_type": "subslide"
    }
   },
   "outputs": [
    {
     "name": "stdout",
     "output_type": "stream",
     "text": [
      "[dev 52364e3] Update readme\n",
      " 1 file changed, 1 insertion(+)\n"
     ]
    }
   ],
   "source": [
    "git commit -m \"Update readme\""
   ]
  },
  {
   "cell_type": "markdown",
   "id": "efd0b9b1",
   "metadata": {},
   "source": [
    "There are some [strong commit message conventions](https://commit.style/):\n",
    "\n",
    "- Start with a one-line summary - try not to go beyond 50 characters, certainly not over 72. Since a git commit is essentially an email, this is the \"subject\".\n",
    "- If more explanation is needed, separate it from the summary by a blank line. This is the \"body\" of the \"email\".\n",
    "- Wrap at 72 characters - git commands generally do not do their own wrapping.\n",
    "- Use the *imperative mood* (eg \"fix x\", \"add y\")."
   ]
  },
  {
   "cell_type": "markdown",
   "id": "d1cdb118",
   "metadata": {
    "slideshow": {
     "slide_type": "subslide"
    }
   },
   "source": [
    "Note that there are some shortcuts, instead of needing to add every change:\n",
    "\n",
    "- `git add <folder>` - recursively add a folder and its contents.\n",
    "  - For example, `git add .` to add *everything*. **Be careful** that temporary or built files are correctly ignored first!\n",
    "- `git add -u` - add all unstaged changes. New files are ignored.\n",
    "- `git commit -a` - commit all changes, again excluding new files."
   ]
  },
  {
   "cell_type": "markdown",
   "id": "cda75665",
   "metadata": {
    "slideshow": {
     "slide_type": "subslide"
    }
   },
   "source": [
    "### When things go wrong...\n",
    "\n",
    "Something will definitely go wrong at some point, from simple typos to committing to the wrong branch and only realising several commits in. **There is always a way out**. [This website](https://dangitgit.com/en) contains a good summary.\n",
    "\n",
    "The main commands are:\n",
    "\n",
    "- `git commit --amend` - amend the most recent commit with any staged changes, instead of creating a new commit.\n",
    "- `git commit --amend --no-edit` - as above but without a prompt to edit the commit message.\n",
    "- `git reflog` - show a log of every single state the `HEAD` has been in.\n",
    "- `git reset --soft` - make `HEAD` point to a different commit, such as one found in the reflog.\n",
    "- `git reset` - as above but also update the staging area to match the commit.\n",
    "- `git reset --hard` - as above but update the working tree as well. **Caution**: this will overwrite changes with no warning."
   ]
  },
  {
   "cell_type": "markdown",
   "id": "32433568",
   "metadata": {
    "slideshow": {
     "slide_type": "slide"
    }
   },
   "source": [
    "## Sharing changes"
   ]
  },
  {
   "cell_type": "markdown",
   "id": "e66495ec",
   "metadata": {
    "slideshow": {
     "slide_type": "subslide"
    }
   },
   "source": [
    "### Remotes\n",
    "\n",
    "A remote is another copy of a repository, such as one on GitHub. Changes can be pulled from a remote, or pushed to it.\n",
    "\n",
    "When cloning a repository with `git clone <url>`, a remote called `origin` is automatically defined with the URL it was cloned from.\n",
    "\n",
    "When a repository was initialised, we need to define the remote separately. GitHub will remind you how to do this after [creating a new repository](https://github.com/new)."
   ]
  },
  {
   "cell_type": "code",
   "execution_count": 27,
   "id": "866bd192",
   "metadata": {},
   "outputs": [],
   "source": [
    "git remote add origin git@github.com:bsherratt/example-repo.git"
   ]
  },
  {
   "cell_type": "code",
   "execution_count": 28,
   "id": "f419c0a3",
   "metadata": {
    "slideshow": {
     "slide_type": "skip"
    }
   },
   "outputs": [
    {
     "name": "stdout",
     "output_type": "stream",
     "text": [
      "Initialized empty Git repository in /net/spice/scratch/bsherrat/git/origin/\n"
     ]
    }
   ],
   "source": [
    "# Actually just use a local folder, so the notebook is more self-contained\n",
    "if [ -d ../origin ]; then rm -rf ../origin; fi\n",
    "git init --bare ../origin\n",
    "git remote set-url origin ../origin"
   ]
  },
  {
   "cell_type": "markdown",
   "id": "64e4c16a",
   "metadata": {
    "slideshow": {
     "slide_type": "subslide"
    }
   },
   "source": [
    "### Remote branches\n",
    "\n",
    "- **Local** branches can be freely checked out and committed to as expected. This is what we have been using so far.\n",
    "- **Remote** branches exist only to represent the last known state of a remote repository, and cannot be checked out or committed to.\n",
    "- A local branch can **track** a remote branch (or even another local branch).\n",
    "- The branch being tracked is referred to as **upstream**."
   ]
  },
  {
   "cell_type": "markdown",
   "id": "3912bc79",
   "metadata": {
    "slideshow": {
     "slide_type": "fragment"
    }
   },
   "source": [
    "The main commands to keep these branches in sync with each other are:\n",
    "\n",
    "- `git fetch` - update remote branches to match the remote repository\n",
    "- `git merge` (with no argument) - merge the upstream into the current branch\n",
    "- `git pull` - `git fetch` followed by `git merge`\n",
    "- `git push` - push to the upstream branch, if there is one. If not, it is an error, but git will suggest...\n",
    "- `git push -u origin <branch>` - push `<branch>` to a branch of the same name at `origin`, and set it as the upstream"
   ]
  },
  {
   "cell_type": "code",
   "execution_count": 29,
   "id": "f0941391",
   "metadata": {
    "slideshow": {
     "slide_type": "subslide"
    }
   },
   "outputs": [
    {
     "name": "stdout",
     "output_type": "stream",
     "text": [
      "Enumerating objects: 6, done.\n",
      "Counting objects: 100% (6/6), done.\n",
      "Delta compression using up to 4 threads\n",
      "Compressing objects: 100% (2/2), done.\n",
      "Writing objects: 100% (6/6), 464 bytes | 154.00 KiB/s, done.\n",
      "Total 6 (delta 1), reused 0 (delta 0)\n",
      "To ../origin\n",
      " * [new branch]      main -> main\n",
      " * [new branch]      dev -> dev\n",
      "Branch 'main' set up to track remote branch 'main' from 'origin'.\n",
      "Branch 'dev' set up to track remote branch 'dev' from 'origin'.\n"
     ]
    }
   ],
   "source": [
    "git push -u origin main dev"
   ]
  },
  {
   "cell_type": "markdown",
   "id": "ddc29386",
   "metadata": {
    "slideshow": {
     "slide_type": "fragment"
    }
   },
   "source": [
    "There is now a copy of the `dev` branch at `origin` - ready for someone else to review.\n",
    "\n",
    "On GitHub, this is done via a \"Pull Request\", and it will even prompt you to create one after pushing to a branch:\n",
    "\n",
    "![GitHub pull request prompt](pr-prompt.png)"
   ]
  },
  {
   "cell_type": "markdown",
   "id": "f1ff828f",
   "metadata": {
    "slideshow": {
     "slide_type": "subslide"
    }
   },
   "source": [
    "Upstream and remote branches are mentioned by several of the commands already seen:"
   ]
  },
  {
   "cell_type": "code",
   "execution_count": 30,
   "id": "66a4e1ca",
   "metadata": {},
   "outputs": [
    {
     "name": "stdout",
     "output_type": "stream",
     "text": [
      "On branch \u001b[1mdev\u001b[m\n",
      "Your branch is up to date with 'origin/dev'.\n",
      "\n",
      "nothing to commit, working tree clean\n"
     ]
    }
   ],
   "source": [
    "git status"
   ]
  },
  {
   "cell_type": "code",
   "execution_count": 31,
   "id": "8a439377",
   "metadata": {},
   "outputs": [
    {
     "name": "stdout",
     "output_type": "stream",
     "text": [
      "  \u001b[34morigin/dev\u001b[m\n",
      "  \u001b[34morigin/main\u001b[m\n"
     ]
    }
   ],
   "source": [
    "git branch -r"
   ]
  },
  {
   "cell_type": "code",
   "execution_count": 32,
   "id": "ac204329",
   "metadata": {},
   "outputs": [
    {
     "name": "stdout",
     "output_type": "stream",
     "text": [
      "* \u001b[32mdev\u001b[m\n",
      "  main\u001b[m\n",
      "  \u001b[34mremotes/origin/dev\u001b[m\n",
      "  \u001b[34mremotes/origin/main\u001b[m\n"
     ]
    }
   ],
   "source": [
    "git branch -a"
   ]
  },
  {
   "cell_type": "code",
   "execution_count": 33,
   "id": "f17e0e6b",
   "metadata": {},
   "outputs": [
    {
     "name": "stdout",
     "output_type": "stream",
     "text": [
      "\u001b[33m52364e3\u001b[m\u001b[33m (\u001b[m\u001b[1;36mHEAD -> \u001b[m\u001b[1;32mdev\u001b[m\u001b[33m, \u001b[m\u001b[1;34morigin/dev\u001b[m\u001b[33m)\u001b[m Update readme\n",
      "\u001b[33m01bf887\u001b[m\u001b[33m (\u001b[m\u001b[1;34morigin/main\u001b[m\u001b[33m, \u001b[m\u001b[1;32mmain\u001b[m\u001b[33m)\u001b[m Initial commit\n"
     ]
    }
   ],
   "source": [
    "git log --oneline"
   ]
  },
  {
   "cell_type": "markdown",
   "id": "f614458c",
   "metadata": {
    "slideshow": {
     "slide_type": "subslide"
    }
   },
   "source": [
    "### Merges\n",
    "\n",
    "**True merge**: a new commit is created with two parents.\n",
    "\n",
    "```\n",
    "    main                 main\n",
    "A - B            A - B - D\n",
    " \\         -->    \\     /\n",
    "  C                C --'\n",
    "  dev              dev\n",
    "```\n",
    "\n",
    "**Fast-forward**: one branch is updated to point at the other, because it has no commits that are not in the branch.\n",
    "\n",
    "```\n",
    "    main\n",
    "A - B                     main\n",
    "     \\      -->   A - B - C\n",
    "      C                   dev\n",
    "      dev\n",
    "```\n",
    "\n",
    "**Rebase**: rewriting all the commits in a branch, as if it had been branched from somewhere else.\n",
    "\n",
    "```\n",
    "    main              main\n",
    "A - B             A - B\n",
    " \\          -->        \\\n",
    "  C - D                 C' - D'\n",
    "      dev                    dev\n",
    "```"
   ]
  },
  {
   "cell_type": "markdown",
   "id": "bdc910e0",
   "metadata": {
    "slideshow": {
     "slide_type": "subslide"
    }
   },
   "source": [
    "The default behaviour of `git merge` is to attempt a fast-forward, or fall back to a true merge, though this can be controlled with the `--no-ff` or `--ff-only` options, or appropriate config settings.\n",
    "\n",
    "When incorporating changes into `main`, repositories usually either always merge, or always fast-forward (rebasing if necessary). GitHub makes both options easy:\n",
    "\n",
    "![Merge button](merge.png)"
   ]
  },
  {
   "cell_type": "markdown",
   "id": "ccb7ba84",
   "metadata": {
    "slideshow": {
     "slide_type": "fragment"
    }
   },
   "source": [
    "For bringing changes to `main` back into a development branch, merging and rebasing are both good options, entirely down to preference.\n",
    "\n",
    "Rebasing creates a simpler, linear history than merging, but conflicts are generally harder to resolve correctly."
   ]
  },
  {
   "cell_type": "code",
   "execution_count": 34,
   "id": "8f1076cd",
   "metadata": {
    "slideshow": {
     "slide_type": "subslide"
    }
   },
   "outputs": [
    {
     "name": "stdout",
     "output_type": "stream",
     "text": [
      "Switched to branch 'main'\n",
      "Your branch is up to date with 'origin/main'.\n"
     ]
    }
   ],
   "source": [
    "git checkout main"
   ]
  },
  {
   "cell_type": "code",
   "execution_count": 35,
   "id": "5e3babb2",
   "metadata": {},
   "outputs": [
    {
     "name": "stdout",
     "output_type": "stream",
     "text": [
      "\u001b[33m52364e3\u001b[m\u001b[33m (\u001b[m\u001b[1;34morigin/dev\u001b[m\u001b[33m, \u001b[m\u001b[1;32mdev\u001b[m\u001b[33m)\u001b[m Update readme\n",
      "\u001b[33m01bf887\u001b[m\u001b[33m (\u001b[m\u001b[1;36mHEAD -> \u001b[m\u001b[1;32mmain\u001b[m\u001b[33m, \u001b[m\u001b[1;34morigin/main\u001b[m\u001b[33m)\u001b[m Initial commit\n"
     ]
    }
   ],
   "source": [
    "git log --oneline --all"
   ]
  },
  {
   "cell_type": "markdown",
   "id": "f90082fb",
   "metadata": {
    "slideshow": {
     "slide_type": "fragment"
    }
   },
   "source": [
    "Since there are no commits on `main` that are not on `dev`, this would be a fast-forward. Let's force a true merge instead."
   ]
  },
  {
   "cell_type": "code",
   "execution_count": 36,
   "id": "924ff65f",
   "metadata": {},
   "outputs": [
    {
     "name": "stdout",
     "output_type": "stream",
     "text": [
      "Merge made by the 'recursive' strategy.\n",
      " README.md | 1 \u001b[32m+\u001b[m\n",
      " 1 file changed, 1 insertion(+)\n"
     ]
    }
   ],
   "source": [
    "git merge --no-ff --no-edit dev"
   ]
  },
  {
   "cell_type": "code",
   "execution_count": 37,
   "id": "44eae935",
   "metadata": {
    "slideshow": {
     "slide_type": "fragment"
    }
   },
   "outputs": [
    {
     "name": "stdout",
     "output_type": "stream",
     "text": [
      "*   \u001b[33m2c6588e\u001b[m\u001b[33m (\u001b[m\u001b[1;36mHEAD -> \u001b[m\u001b[1;32mmain\u001b[m\u001b[33m)\u001b[m Merge branch 'dev' into main\n",
      "\u001b[31m|\u001b[m\u001b[32m\\\u001b[m  \n",
      "\u001b[31m|\u001b[m * \u001b[33m52364e3\u001b[m\u001b[33m (\u001b[m\u001b[1;34morigin/dev\u001b[m\u001b[33m, \u001b[m\u001b[1;32mdev\u001b[m\u001b[33m)\u001b[m Update readme\n",
      "\u001b[31m|\u001b[m\u001b[31m/\u001b[m  \n",
      "* \u001b[33m01bf887\u001b[m\u001b[33m (\u001b[m\u001b[1;34morigin/main\u001b[m\u001b[33m)\u001b[m Initial commit\n"
     ]
    }
   ],
   "source": [
    "git log --graph --oneline --all"
   ]
  },
  {
   "cell_type": "markdown",
   "id": "09525834",
   "metadata": {
    "slideshow": {
     "slide_type": "slide"
    }
   },
   "source": [
    "## Appendix"
   ]
  },
  {
   "cell_type": "markdown",
   "id": "0dd85365",
   "metadata": {
    "slideshow": {
     "slide_type": "subslide"
    }
   },
   "source": [
    "### Recommended config\n",
    "\n",
    "| Setting                | Value  | Why |\n",
    "|:-----------------------|:-------|:----|\n",
    "| core.eol               | lf     | Use Linux line endings in checked out files, even on Windows |\n",
    "| merge.ff               | false  | Make `merge` always a \"true merge\" |\n",
    "| merge.conflictStyle    | diff3  | Add common ancestor to conflict markers |\n",
    "| mergetool.keepBackup   | false  | Tidy `*.orig` files when `mergetool` finishes |\n",
    "| color.status.changed   | yellow | Colour unstaged files differently to staged (green) |\n",
    "| color.status.untracked | blue   | Nicer than the default red |"
   ]
  },
  {
   "cell_type": "markdown",
   "id": "b4656799",
   "metadata": {
    "slideshow": {
     "slide_type": "subslide"
    }
   },
   "source": [
    "### Suggested aliases\n",
    "\n",
    "| Alias         | Command |\n",
    "|:--------------|:--------|\n",
    "| alias.st      | `status` |\n",
    "| alias.br      | `branch` |\n",
    "| alias.co      | `checkout` |\n",
    "| alias.cb      | `checkout -b` |\n",
    "| alias.lg      | `log --oneline` |\n",
    "| alias.graph   | `log --graph --oneline --all` |\n",
    "| alias.sdiff   | `diff --cached` |\n",
    "| alias.unstage | `restore --staged` |\n",
    "| alias.amend   | `commit --amend --no-edit` |\n",
    "| alias.reword  | `commit --amend --only --` |\n",
    "| alias.ff      | `merge --ff-only` |"
   ]
  },
  {
   "cell_type": "markdown",
   "id": "43454b5f",
   "metadata": {
    "slideshow": {
     "slide_type": "subslide"
    }
   },
   "source": [
    "### Common commands"
   ]
  },
  {
   "cell_type": "markdown",
   "id": "5a14b7e0",
   "metadata": {},
   "source": [
    "| Action                    | git                          | fcm                    |\n",
    "|:--------------------------|:-----------------------------|:-----------------------|\n",
    "| Check file status         | `status`                     | `status`               |\n",
    "| Track new file            | `add <files>`                | `add <files>`          |\n",
    "| Stage changes             | `add <files>`                | -                      |\n",
    "| Stage all changes         | `add -u`                     | -                      |\n",
    "| Unstage changes           | `restore --staged <files>`   | -                      |\n",
    "| Abandon unstaged changes  | `restore <files>`            | `revert <files>`       |\n",
    "| Remove file               | `rm <files>`                 | `rm <files>`           |\n",
    "| View unstaged changes     | `diff`                       | -                      |\n",
    "| View staged changes       | `diff --cached`              | `diff`                 |\n",
    "| Open diff GUI             | `difftool`                   | `diff -g`              |\n",
    "| Commit staged changes     | `commit`                     | -                      |\n",
    "| Commit unstaged changes   | `commit -a`                  | `commit`               |\n",
    "| Edit latest commit        | `commit --amend`             | -                      |\n",
    "| List commits              | `log`                        | `log`                  |"
   ]
  },
  {
   "cell_type": "markdown",
   "id": "d0545370",
   "metadata": {
    "slideshow": {
     "slide_type": "subslide"
    }
   },
   "source": [
    "| Action                    | git                          | fcm                    |\n",
    "|:--------------------------|:-----------------------------|:-----------------------|\n",
    "| Get a local copy          | `clone <url>`                | `checkout <url>`       |\n",
    "| Create a branch           | `branch <name>`              | `branch-create <name>` |\n",
    "| Switch checked-out branch | `checkout <branch>`          | `switch <branch>`      |\n",
    "| Check out new branch      | `checkout -b <name>`         | -                      |\n",
    "| Merge without committing  | `merge --no-commit <branch>` | `merge <branch>`       |\n",
    "| Create a merge commit     | `merge <branch>`             | -                      |\n",
    "| Resolve conflicts         | `mergetool`                  | `conflicts`            |\n",
    "| Update local copy         | `pull`                       | `update`               |\n",
    "| Publish branch            | `push -u origin <branch>`    | -                      |\n",
    "| Share new commits         | `push`                       | -                      |"
   ]
  }
 ],
 "metadata": {
  "celltoolbar": "Slideshow",
  "kernelspec": {
   "display_name": "Bash",
   "language": "bash",
   "name": "bash"
  },
  "language_info": {
   "codemirror_mode": "shell",
   "file_extension": ".sh",
   "mimetype": "text/x-sh",
   "name": "bash"
  },
  "toc-showtags": false
 },
 "nbformat": 4,
 "nbformat_minor": 5
}
